{
 "cells": [
  {
   "cell_type": "code",
   "execution_count": null,
   "id": "8ccc4243",
   "metadata": {},
   "outputs": [],
   "source": [
    "## Inheritance is a fundamnetal concept in Object-Oriented Programming(OOP) that allows a class to inherit attributes and methods from other class.\n"
   ]
  },
  {
   "cell_type": "code",
   "execution_count": 3,
   "id": "e0ce1425",
   "metadata": {},
   "outputs": [
    {
     "name": "stdout",
     "output_type": "stream",
     "text": [
      "A Petrol car with 5 doors and 4 windows is being driven by the driver.\n"
     ]
    }
   ],
   "source": [
    "## Parent Class\n",
    "class Car:\n",
    "    def __init__(self,windows,doors,engineType):\n",
    "        self.windows = windows\n",
    "        self.doors = doors\n",
    "        self.engineType = engineType\n",
    "    \n",
    "    def drive(self):\n",
    "        print(f\"A {self.engineType} car with {self.doors} doors and {self.windows} windows is being driven by the driver.\")\n",
    "\n",
    "car1 = Car(4,5,\"Petrol\")\n",
    "car1.drive()"
   ]
  },
  {
   "cell_type": "code",
   "execution_count": 4,
   "id": "cd5ebe92",
   "metadata": {},
   "outputs": [
    {
     "name": "stdout",
     "output_type": "stream",
     "text": [
      "Tesla supports self driving : True\n",
      "A Electric car with 5 doors and 4 windows is being driven by the driver.\n"
     ]
    }
   ],
   "source": [
    "## Tesla Class is inheriting from the car class (mentioned inside the brackets)\n",
    "class Tesla(Car):\n",
    "    def __init__(self, windows, doors, engineType,is_selfdriving):\n",
    "        super().__init__(windows, doors, engineType)\n",
    "        self.is_selfdriving = is_selfdriving\n",
    "    \n",
    "    def selfdriving(self):\n",
    "        print(f\"Tesla supports self driving : {self.is_selfdriving}\")\n",
    "\n",
    "tesla1 = Tesla(4,5,\"Electric\",True)\n",
    "tesla1.selfdriving()\n",
    "tesla1.drive() # This method is inherited from the Car class"
   ]
  },
  {
   "cell_type": "code",
   "execution_count": 7,
   "id": "c8cf58fb",
   "metadata": {},
   "outputs": [
    {
     "name": "stdout",
     "output_type": "stream",
     "text": [
      "Buddy speaks woof-woof\n",
      "Krish\n"
     ]
    }
   ],
   "source": [
    "### Multiple Inheritance : When a class inherits from more than one base class\n",
    "\n",
    "# Base Class 1\n",
    "class Animal:\n",
    "    def __init__(self,name):\n",
    "        self.name = name\n",
    "\n",
    "    def speak(self):\n",
    "        print(\"Subclass must implement this method\")\n",
    "\n",
    "\n",
    "# Base Class 2\n",
    "class Pet:\n",
    "    def __init__(self,owner):\n",
    "        self.owner = owner\n",
    "\n",
    "\n",
    "## Derived Class\n",
    "class Dog(Animal,Pet):\n",
    "    def __init__(self, name, owner):\n",
    "        Animal.__init__(self,name)\n",
    "        Pet.__init__(self,owner)\n",
    "\n",
    "    def speak(self):\n",
    "        print(f\"{self.name} speaks woof-woof\")\n",
    "\n",
    "## Create an object \n",
    "\n",
    "dog = Dog(\"Buddy\",\"Krish\")\n",
    "dog.speak()\n",
    "print(dog.owner)\n",
    "\n",
    "         "
   ]
  },
  {
   "cell_type": "code",
   "execution_count": null,
   "id": "78232f2b",
   "metadata": {},
   "outputs": [],
   "source": []
  },
  {
   "cell_type": "code",
   "execution_count": null,
   "id": "105da7b8",
   "metadata": {},
   "outputs": [],
   "source": []
  }
 ],
 "metadata": {
  "kernelspec": {
   "display_name": "Python 3",
   "language": "python",
   "name": "python3"
  },
  "language_info": {
   "codemirror_mode": {
    "name": "ipython",
    "version": 3
   },
   "file_extension": ".py",
   "mimetype": "text/x-python",
   "name": "python",
   "nbconvert_exporter": "python",
   "pygments_lexer": "ipython3",
   "version": "3.12.0"
  }
 },
 "nbformat": 4,
 "nbformat_minor": 5
}
