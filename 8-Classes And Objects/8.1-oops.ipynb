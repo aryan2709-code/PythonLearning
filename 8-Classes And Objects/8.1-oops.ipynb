{
 "cells": [
  {
   "cell_type": "code",
   "execution_count": null,
   "id": "ee43ffe6",
   "metadata": {},
   "outputs": [],
   "source": [
    "## OOP is a programming paradigm that uses objects to design applications and computer programs. Object Oriented Programming allows for modelling real-world \n",
    "## scenarios using classes and objects."
   ]
  },
  {
   "cell_type": "code",
   "execution_count": 1,
   "id": "c30129a2",
   "metadata": {},
   "outputs": [
    {
     "name": "stdout",
     "output_type": "stream",
     "text": [
      "<class '__main__.Car'>\n",
      "<class '__main__.Car'>\n",
      "<__main__.Car object at 0x000001B96145EC00>\n",
      "<__main__.Car object at 0x000001B96145EEA0>\n"
     ]
    }
   ],
   "source": [
    "### A class is a blue print for creating objects. Attributes,methods\n",
    "\n",
    "class Car:\n",
    "    pass\n",
    "\n",
    "audi = Car()\n",
    "bmw = Car()\n",
    "\n",
    "print(type(audi))\n",
    "print(type(bmw))\n",
    "print(audi)\n",
    "print(bmw)"
   ]
  },
  {
   "cell_type": "code",
   "execution_count": 2,
   "id": "10803baa",
   "metadata": {},
   "outputs": [
    {
     "name": "stdout",
     "output_type": "stream",
     "text": [
      "4\n"
     ]
    }
   ],
   "source": [
    "### Instance variables and methods\n",
    "\n",
    "audi.windows = 4\n",
    "print(audi.windows)\n"
   ]
  },
  {
   "cell_type": "code",
   "execution_count": 3,
   "id": "c2ab7ef6",
   "metadata": {},
   "outputs": [
    {
     "name": "stdout",
     "output_type": "stream",
     "text": [
      "4\n"
     ]
    },
    {
     "ename": "AttributeError",
     "evalue": "'Car' object has no attribute 'windows'",
     "output_type": "error",
     "traceback": [
      "\u001b[31m---------------------------------------------------------------------------\u001b[39m",
      "\u001b[31mAttributeError\u001b[39m                            Traceback (most recent call last)",
      "\u001b[36mCell\u001b[39m\u001b[36m \u001b[39m\u001b[32mIn[3]\u001b[39m\u001b[32m, line 4\u001b[39m\n\u001b[32m      2\u001b[39m tata.doors = \u001b[32m4\u001b[39m\n\u001b[32m      3\u001b[39m \u001b[38;5;28mprint\u001b[39m(tata.doors)\n\u001b[32m----> \u001b[39m\u001b[32m4\u001b[39m \u001b[38;5;28mprint\u001b[39m(\u001b[43mtata\u001b[49m\u001b[43m.\u001b[49m\u001b[43mwindows\u001b[49m)\n",
      "\u001b[31mAttributeError\u001b[39m: 'Car' object has no attribute 'windows'"
     ]
    }
   ],
   "source": [
    "tata = Car()\n",
    "tata.doors = 4\n",
    "print(tata.doors)\n",
    "print(tata.windows)"
   ]
  },
  {
   "cell_type": "code",
   "execution_count": 4,
   "id": "50e9f8c3",
   "metadata": {},
   "outputs": [
    {
     "data": {
      "text/plain": [
       "['__class__',\n",
       " '__delattr__',\n",
       " '__dict__',\n",
       " '__dir__',\n",
       " '__doc__',\n",
       " '__eq__',\n",
       " '__format__',\n",
       " '__ge__',\n",
       " '__getattribute__',\n",
       " '__getstate__',\n",
       " '__gt__',\n",
       " '__hash__',\n",
       " '__init__',\n",
       " '__init_subclass__',\n",
       " '__le__',\n",
       " '__lt__',\n",
       " '__module__',\n",
       " '__ne__',\n",
       " '__new__',\n",
       " '__reduce__',\n",
       " '__reduce_ex__',\n",
       " '__repr__',\n",
       " '__setattr__',\n",
       " '__sizeof__',\n",
       " '__str__',\n",
       " '__subclasshook__',\n",
       " '__weakref__',\n",
       " 'doors']"
      ]
     },
     "execution_count": 4,
     "metadata": {},
     "output_type": "execute_result"
    }
   ],
   "source": [
    "dir(tata)"
   ]
  },
  {
   "cell_type": "code",
   "execution_count": 7,
   "id": "f899f5d6",
   "metadata": {},
   "outputs": [
    {
     "name": "stdout",
     "output_type": "stream",
     "text": [
      "<__main__.Dog object at 0x000001B9614CAB70>\n",
      "Kalu\n",
      "24\n"
     ]
    }
   ],
   "source": [
    "### Instance variables and methods\n",
    "\n",
    "class Dog:\n",
    "    ## constructor\n",
    "    def __init__(self,name,age):\n",
    "        self.name = name\n",
    "        self.age = age\n",
    "\n",
    "\n",
    "## Create objects\n",
    "dog1 = Dog('Kalu',24)\n",
    "print(dog1)\n",
    "print(dog1.name)\n",
    "print(dog1.age)"
   ]
  },
  {
   "cell_type": "code",
   "execution_count": 8,
   "id": "b1420e1f",
   "metadata": {},
   "outputs": [
    {
     "name": "stdout",
     "output_type": "stream",
     "text": [
      "<__main__.Dog object at 0x000001B9615EAC60>\n",
      "Lucy\n",
      "4\n"
     ]
    }
   ],
   "source": [
    "dog2 = Dog(\"Lucy\",4)\n",
    "print(dog2)\n",
    "print(dog2.name)\n",
    "print(dog2.age)"
   ]
  },
  {
   "cell_type": "code",
   "execution_count": 10,
   "id": "fe57bfa4",
   "metadata": {},
   "outputs": [
    {
     "name": "stdout",
     "output_type": "stream",
     "text": [
      "Billi says meow-meow\n",
      "Billo says meow-meow\n"
     ]
    }
   ],
   "source": [
    "## Define a class with instance methods\n",
    "\n",
    "class Cat:\n",
    "    def __init__(self,name,age):\n",
    "        self.name = name\n",
    "        self.age = age\n",
    "    \n",
    "    def meow(self):\n",
    "        print(f\"{self.name} says meow-meow\")\n",
    "\n",
    "\n",
    "cat1 = Cat(\"Billi\",3)\n",
    "cat1.meow()\n",
    "cat2 = Cat(\"Billo\",5)\n",
    "cat2.meow()\n"
   ]
  },
  {
   "cell_type": "code",
   "execution_count": 12,
   "id": "9c493331",
   "metadata": {},
   "outputs": [
    {
     "name": "stdout",
     "output_type": "stream",
     "text": [
      "Aryan, your account balance is 5000 Rupees.\n",
      "2000 Rs. is deposited to your account. Updated balance is 7000\n",
      "Aryan, your account balance is 7000 Rupees.\n",
      "6500 Rs. was withdrawn from your account. Updated balance is 500\n",
      "Aryan, your account balance is 500 Rupees.\n",
      "Insufficient Funds! \n"
     ]
    }
   ],
   "source": [
    "### Modelling a bank account\n",
    "\n",
    "### Define a class for bank account\n",
    "\n",
    "class BankAccount:\n",
    "    def __init__(self,owner,balance=0):\n",
    "        self.owner = owner\n",
    "        self.balance = balance\n",
    "\n",
    "    def deposit(self,amount):\n",
    "        self.balance += amount\n",
    "        print(f\"{amount} Rs. is deposited to your account. Updated balance is {self.balance}\")\n",
    "\n",
    "    def withdraw(self,amount):\n",
    "        if amount>self.balance:\n",
    "            print(\"Insufficient Funds! \")\n",
    "        else:\n",
    "            self.balance -= amount\n",
    "            print(f\"{amount} Rs. was withdrawn from your account. Updated balance is {self.balance}\")\n",
    "\n",
    "    def get_balance(self):\n",
    "        print(f\"{self.owner}, your account balance is {self.balance} Rupees.\")\n",
    "    \n",
    "\n",
    "## create an account\n",
    "acct = BankAccount(\"Aryan\",5000)\n",
    "acct.get_balance()\n",
    "acct.deposit(2000)\n",
    "acct.get_balance()\n",
    "acct.withdraw(6500)\n",
    "acct.get_balance()\n",
    "acct.withdraw(1000)\n"
   ]
  },
  {
   "cell_type": "code",
   "execution_count": null,
   "id": "5b2d0182",
   "metadata": {},
   "outputs": [],
   "source": []
  }
 ],
 "metadata": {
  "kernelspec": {
   "display_name": "Python 3",
   "language": "python",
   "name": "python3"
  },
  "language_info": {
   "codemirror_mode": {
    "name": "ipython",
    "version": 3
   },
   "file_extension": ".py",
   "mimetype": "text/x-python",
   "name": "python",
   "nbconvert_exporter": "python",
   "pygments_lexer": "ipython3",
   "version": "3.12.0"
  }
 },
 "nbformat": 4,
 "nbformat_minor": 5
}
