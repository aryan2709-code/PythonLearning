{
 "cells": [
  {
   "cell_type": "markdown",
   "id": "6f60c0f5",
   "metadata": {},
   "source": [
    "#### Common Operator Overloading Magic Methods\n",
    "\n",
    "__add__(self,other) : Adds two objects using the + operator\n",
    "__sub__(self,other) : Subtracts two objects using the - operator\n",
    "__mul__(self,other) : Multiplies two objects using the * operator\n",
    "__truediv__(self,other) : Divides two objects using the / operator\n",
    "__eq__(self,other) : Checks if the two objects are equal using the == operator\n",
    "__lt__(self,other) : Checks if one object is less than other using the < operator\n",
    "__gt__(self,other) : greater than comparison between two objects"
   ]
  },
  {
   "cell_type": "code",
   "execution_count": 4,
   "id": "5ad2e3f3",
   "metadata": {},
   "outputs": [
    {
     "name": "stdout",
     "output_type": "stream",
     "text": [
      "Vector(6, 11)\n",
      "Vector(-2, -5)\n",
      "Vector(6, 9)\n"
     ]
    }
   ],
   "source": [
    "class Vector:\n",
    "    def __init__(self,x,y):\n",
    "        self.x = x\n",
    "        self.y = y\n",
    "\n",
    "    def __add__(self,other):\n",
    "        return Vector(self.x+other.x,self.y+other.y)\n",
    "    \n",
    "    def __sub__(self,other):\n",
    "        return Vector(self.x - other.x, self.y - other.y)\n",
    "    \n",
    "    def __mul__(self,other):\n",
    "        return Vector(self.x * other, self.y * other)\n",
    "    \n",
    "    def __eq__(self,other):\n",
    "        return self.x == other.x and self.y == other.y\n",
    "    \n",
    "    def __repr__(self):\n",
    "        return f\"Vector({self.x}, {self.y})\"\n",
    "    \n",
    "## Create objects of the vector class\n",
    "v1 = Vector(2,3)\n",
    "v2 = Vector(4,8)\n",
    "\n",
    "print(v1+v2)\n",
    "print(v1-v2)\n",
    "print(v1*3)\n",
    "    \n",
    "    "
   ]
  }
 ],
 "metadata": {
  "kernelspec": {
   "display_name": "Python 3",
   "language": "python",
   "name": "python3"
  },
  "language_info": {
   "codemirror_mode": {
    "name": "ipython",
    "version": 3
   },
   "file_extension": ".py",
   "mimetype": "text/x-python",
   "name": "python",
   "nbconvert_exporter": "python",
   "pygments_lexer": "ipython3",
   "version": "3.12.0"
  }
 },
 "nbformat": 4,
 "nbformat_minor": 5
}
