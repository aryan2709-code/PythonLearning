{
 "cells": [
  {
   "cell_type": "code",
   "execution_count": null,
   "id": "c38edf12",
   "metadata": {},
   "outputs": [],
   "source": [
    "## Magic methods in Python, also known as dunder methods (double underscore mthods) are special methods that start and end with double underscores. \n",
    "## These methods enable you to define the behaviour of objects for built-in operations such as arithmetic operations, comparisons and more.\n"
   ]
  },
  {
   "cell_type": "markdown",
   "id": "e0866c9e",
   "metadata": {},
   "source": [
    "### Magic Methods\n",
    "\n",
    "Magic methods are predefined methods in python that you can override to change the behaviour of your objects. Some common magic methods include:\n",
    "\n",
    "__init__ : Initialises a new instance of a class\n",
    "__str__ : returns a string representation of an object\n",
    "__repr__ : returns an official string representation of an object\n",
    "__len__ : returns the length of an object\n",
    "__getitem__ : gets an item from a container\n",
    "__setitem__ : sets an item in a container"
   ]
  },
  {
   "cell_type": "code",
   "execution_count": 1,
   "id": "d4d4f350",
   "metadata": {},
   "outputs": [
    {
     "name": "stdout",
     "output_type": "stream",
     "text": [
      "<__main__.Person object at 0x000001823CC01F70>\n"
     ]
    }
   ],
   "source": [
    "## Basic methods:\n",
    "\n",
    "class Person:\n",
    "    def __init__(self,name,age):\n",
    "        self.name = name\n",
    "        self.age = age\n",
    "person = Person(\"Aryan\",32)\n",
    "print(person)\n"
   ]
  },
  {
   "cell_type": "code",
   "execution_count": null,
   "id": "cb2e8ca4",
   "metadata": {},
   "outputs": [
    {
     "name": "stdout",
     "output_type": "stream",
     "text": [
      "Aryan,32 years old\n"
     ]
    }
   ],
   "source": [
    "class Person:\n",
    "    def __init__(self,name,age):\n",
    "        self.name = name\n",
    "        self.age = age\n",
    "    \n",
    "    ## Changing the functionality of a magic method\n",
    "    def __str__(self): ## str magic method gives the string representation of an object\n",
    "        return f\"{self.name},{self.age} years old\"\n",
    "person = Person(\"Aryan\",32)\n",
    "print(person)"
   ]
  },
  {
   "cell_type": "code",
   "execution_count": 3,
   "id": "4ba951dd",
   "metadata": {},
   "outputs": [
    {
     "name": "stdout",
     "output_type": "stream",
     "text": [
      "Aryan,32 years old\n",
      "Person (name = Aryan, age = 32) \n"
     ]
    }
   ],
   "source": [
    "class Person:\n",
    "    def __init__(self,name,age):\n",
    "        self.name = name\n",
    "        self.age = age\n",
    "    \n",
    "    ## Changing the functionality of a magic method\n",
    "    def __str__(self): ## str magic method gives the string representation of an object\n",
    "        return f\"{self.name},{self.age} years old\"\n",
    "    \n",
    "    def __repr__(self):\n",
    "        return f\"Person (name = {self.name}, age = {self.age}) \"\n",
    "    \n",
    "person = Person(\"Aryan\",32)\n",
    "print(person)\n",
    "print(repr(person))"
   ]
  }
 ],
 "metadata": {
  "kernelspec": {
   "display_name": "Python 3",
   "language": "python",
   "name": "python3"
  },
  "language_info": {
   "codemirror_mode": {
    "name": "ipython",
    "version": 3
   },
   "file_extension": ".py",
   "mimetype": "text/x-python",
   "name": "python",
   "nbconvert_exporter": "python",
   "pygments_lexer": "ipython3",
   "version": "3.12.0"
  }
 },
 "nbformat": 4,
 "nbformat_minor": 5
}
