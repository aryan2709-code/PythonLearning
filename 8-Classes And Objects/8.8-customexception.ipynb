{
 "cells": [
  {
   "cell_type": "code",
   "execution_count": 2,
   "id": "bf94a8d3",
   "metadata": {},
   "outputs": [
    {
     "name": "stdout",
     "output_type": "stream",
     "text": [
      "Sorry, your age does not follow the criteria required to pass this exam\n"
     ]
    }
   ],
   "source": [
    "## Custom Exception (Raise and throw an exception)\n",
    "\n",
    "class Error(Exception):\n",
    "    pass\n",
    "\n",
    "class dobException(Error):\n",
    "    pass\n",
    "\n",
    "\n",
    "year = int(input(\"Enter The Year Of Birth\"))\n",
    "age = 2025 - year\n",
    "\n",
    "try:\n",
    "    if age<=30 and age>=20:\n",
    "        print(\"The age is valid so you can apply for the exam\")\n",
    "    else:\n",
    "        raise dobException\n",
    "except dobException:\n",
    "    print(\"Sorry, your age does not follow the criteria required to pass this exam\")"
   ]
  }
 ],
 "metadata": {
  "kernelspec": {
   "display_name": "Python 3",
   "language": "python",
   "name": "python3"
  },
  "language_info": {
   "codemirror_mode": {
    "name": "ipython",
    "version": 3
   },
   "file_extension": ".py",
   "mimetype": "text/x-python",
   "name": "python",
   "nbconvert_exporter": "python",
   "pygments_lexer": "ipython3",
   "version": "3.12.0"
  }
 },
 "nbformat": 4,
 "nbformat_minor": 5
}
