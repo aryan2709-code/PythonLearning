{
 "cells": [
  {
   "cell_type": "code",
   "execution_count": null,
   "id": "e4537cc2",
   "metadata": {},
   "outputs": [],
   "source": [
    "## Generators are a simpler way to create iterators. They use the yield keyword to produce a series of values lazily, which means they generate values on the \n",
    "## fly and do not store them in memory."
   ]
  },
  {
   "cell_type": "code",
   "execution_count": 1,
   "id": "773da6f9",
   "metadata": {},
   "outputs": [
    {
     "data": {
      "text/plain": [
       "0"
      ]
     },
     "execution_count": 1,
     "metadata": {},
     "output_type": "execute_result"
    }
   ],
   "source": [
    "def square(n):\n",
    "    for i in range(3):\n",
    "        return i**2\n",
    "\n",
    "\n",
    "square(3)"
   ]
  },
  {
   "cell_type": "code",
   "execution_count": 2,
   "id": "ed06a0ff",
   "metadata": {},
   "outputs": [
    {
     "data": {
      "text/plain": [
       "<generator object square at 0x0000019D0AB6E4D0>"
      ]
     },
     "execution_count": 2,
     "metadata": {},
     "output_type": "execute_result"
    }
   ],
   "source": [
    "def square(n):\n",
    "    for i in range(3):\n",
    "        yield i**2\n",
    "\n",
    "square(3)"
   ]
  },
  {
   "cell_type": "code",
   "execution_count": 3,
   "id": "ac62dc08",
   "metadata": {},
   "outputs": [
    {
     "name": "stdout",
     "output_type": "stream",
     "text": [
      "0\n",
      "1\n",
      "4\n"
     ]
    }
   ],
   "source": [
    "for i in square(3):\n",
    "    print(i)"
   ]
  },
  {
   "cell_type": "code",
   "execution_count": 5,
   "id": "94313cfe",
   "metadata": {},
   "outputs": [
    {
     "data": {
      "text/plain": [
       "0"
      ]
     },
     "execution_count": 5,
     "metadata": {},
     "output_type": "execute_result"
    }
   ],
   "source": [
    "a = square(3)\n",
    "next(a)"
   ]
  },
  {
   "cell_type": "code",
   "execution_count": 6,
   "id": "91731e7b",
   "metadata": {},
   "outputs": [
    {
     "data": {
      "text/plain": [
       "1"
      ]
     },
     "execution_count": 6,
     "metadata": {},
     "output_type": "execute_result"
    }
   ],
   "source": [
    "next(a)"
   ]
  },
  {
   "cell_type": "code",
   "execution_count": 7,
   "id": "b8558bb2",
   "metadata": {},
   "outputs": [
    {
     "data": {
      "text/plain": [
       "4"
      ]
     },
     "execution_count": 7,
     "metadata": {},
     "output_type": "execute_result"
    }
   ],
   "source": [
    "next(a)"
   ]
  },
  {
   "cell_type": "code",
   "execution_count": 8,
   "id": "d497c9f1",
   "metadata": {},
   "outputs": [
    {
     "data": {
      "text/plain": [
       "<generator object my_generator at 0x0000019D0A9AAB90>"
      ]
     },
     "execution_count": 8,
     "metadata": {},
     "output_type": "execute_result"
    }
   ],
   "source": [
    "def my_generator():\n",
    "    yield 1\n",
    "    yield 2\n",
    "    yield 3\n",
    "\n",
    "\n",
    "gen = my_generator()\n",
    "gen"
   ]
  },
  {
   "cell_type": "code",
   "execution_count": 9,
   "id": "26b28518",
   "metadata": {},
   "outputs": [
    {
     "data": {
      "text/plain": [
       "1"
      ]
     },
     "execution_count": 9,
     "metadata": {},
     "output_type": "execute_result"
    }
   ],
   "source": [
    "next(gen)"
   ]
  },
  {
   "cell_type": "code",
   "execution_count": 10,
   "id": "254f5838",
   "metadata": {},
   "outputs": [
    {
     "data": {
      "text/plain": [
       "2"
      ]
     },
     "execution_count": 10,
     "metadata": {},
     "output_type": "execute_result"
    }
   ],
   "source": [
    "next(gen)"
   ]
  },
  {
   "cell_type": "code",
   "execution_count": 11,
   "id": "e360870a",
   "metadata": {},
   "outputs": [
    {
     "data": {
      "text/plain": [
       "3"
      ]
     },
     "execution_count": 11,
     "metadata": {},
     "output_type": "execute_result"
    }
   ],
   "source": [
    "next(gen)"
   ]
  },
  {
   "cell_type": "code",
   "execution_count": 13,
   "id": "d3c71d2d",
   "metadata": {},
   "outputs": [
    {
     "name": "stdout",
     "output_type": "stream",
     "text": [
      "The President of India – A Detailed Study\n",
      "1. Introduction\n",
      "\n",
      "The President of India is the ceremonial head of state and the supreme commander of the Indian Armed Forces.\n",
      "\n",
      "The position of the President is regarded as the highest constitutional authority in India.\n",
      "\n",
      "Although the real executive power is vested in the Prime Minister and the Council of Ministers, the President occupies a central role in ensuring constitutional governance.\n",
      "\n",
      "The President represents the unity, integrity, and dignity of the Indian nation.\n",
      "\n",
      "In the parliamentary democracy of India, the President acts largely on the aid and advice of the Council of Ministers.\n",
      "\n",
      "Yet, the President also possesses certain discretionary powers that are crucial in times of political instability.\n",
      "\n",
      "The Constitution of India, under Part V (Articles 52–78), lays down provisions regarding the President.\n",
      "\n",
      "Article 52 explicitly states: “There shall be a President of India.”\n",
      "\n",
      "Thus, the President is not only a symbolic head but also a constitutional guardian.\n",
      "\n",
      "Over the decades, the office has evolved, balancing tradition, law, and democratic values.\n",
      "\n",
      "2. Historical Background\n",
      "\n",
      "The office of the President of India was inspired by the British Crown but modified to suit a republican framework.\n",
      "\n",
      "Before independence, the Governor-General served as the representative of the British Crown in India.\n",
      "\n",
      "After independence in 1947, India decided to adopt a Republican Constitution instead of continuing monarchy.\n",
      "\n",
      "The framers of the Constitution debated extensively in the Constituent Assembly regarding the powers of the President.\n",
      "\n",
      "Dr. B. R. Ambedkar and other leaders ensured that the President would not be a parallel power center.\n",
      "\n",
      "Instead, the office was designed to harmonize ceremonial dignity with constitutional checks.\n",
      "\n",
      "On 26th January 1950, India became a Republic, and Dr. Rajendra Prasad was sworn in as the first President of India.\n",
      "\n",
      "Since then, the President has remained the symbol of the Republic.\n",
      "\n",
      "The institution has evolved through conventions, precedents, and judicial pronouncements.\n",
      "\n",
      "The legacy of the office is intertwined with India’s journey as the world’s largest democracy.\n",
      "\n",
      "3. Constitutional Provisions\n",
      "\n",
      "The Constitution of India devotes Articles 52 to 78 to the President.\n",
      "\n",
      "Article 52: Establishes the office of the President.\n",
      "\n",
      "Article 53: Vests executive power of the Union in the President.\n",
      "\n",
      "Article 54: Provides for the election of the President.\n",
      "\n",
      "Article 55: Deals with the manner of election to ensure uniformity.\n",
      "\n",
      "Article 56: States the term of office (five years).\n",
      "\n",
      "Article 57: Eligibility for re-election.\n",
      "\n",
      "Article 58: Qualifications required to be elected as President.\n",
      "\n",
      "Article 59: Conditions of office.\n",
      "\n",
      "Article 60: Oath or affirmation by the President.\n",
      "\n",
      "Article 61: Procedure for impeachment.\n",
      "\n",
      "Articles 72, 74, 76, and others also indirectly affect the powers of the President.\n",
      "\n",
      "The President is bound by the Constitution to act within democratic principles.\n",
      "\n",
      "Constitutional amendments and judicial interpretations have clarified the President’s authority.\n",
      "\n",
      "The 42nd and 44th Amendments particularly affected the scope of Presidential powers.\n",
      "\n",
      "Thus, the office is well-defined but flexible enough to adapt to circumstances.\n",
      "\n",
      "The President is also protected by immunity from criminal proceedings during tenure.\n",
      "\n",
      "However, impeachment remains the constitutional method of accountability.\n",
      "\n",
      "Therefore, the President is both powerful and restrained.\n",
      "\n",
      "This balance is at the core of India’s republican ethos.\n",
      "\n",
      "4. Election Process\n",
      "\n",
      "The President is elected indirectly through an Electoral College.\n",
      "\n",
      "This college consists of elected Members of Parliament (MPs) and elected Members of Legislative Assemblies (MLAs) of states and Union Territories.\n",
      "\n",
      "Nominated members of Parliament and Assemblies do not participate.\n",
      "\n",
      "The election is held by means of the single transferable vote system of proportional representation.\n",
      "\n",
      "The value of each MLA’s vote depends on the population of the state, as per the 1971 Census.\n",
      "\n",
      "The value of each MP’s vote is calculated to ensure parity between Parliament and the states.\n",
      "\n",
      "This ensures that the President represents the entire Union of India.\n",
      "\n",
      "The Returning Officer (usually the Secretary General of Lok Sabha or Rajya Sabha) conducts the election.\n",
      "\n",
      "Any citizen of India aged 35 or above, meeting qualifications, may contest.\n",
      "\n",
      "To secure candidature, a nominee requires support from at least 50 proposers and 50 seconders.\n"
     ]
    }
   ],
   "source": [
    "## Practical Example : Reading large Files\n",
    "## generators are particularly useful for reading large files because they allow you to process one line at a time without loading the entire file \n",
    "## in the memory\n",
    "\n",
    "def read_large_file(file_path):\n",
    "    with open(file_path,'r') as file:\n",
    "        for line in file:\n",
    "            yield line\n",
    "\n",
    "\n",
    "file_path = \"large_file.txt\"\n",
    "for line in read_large_file(file_path):\n",
    "    print(line.strip())\n"
   ]
  }
 ],
 "metadata": {
  "kernelspec": {
   "display_name": "Python 3",
   "language": "python",
   "name": "python3"
  },
  "language_info": {
   "codemirror_mode": {
    "name": "ipython",
    "version": 3
   },
   "file_extension": ".py",
   "mimetype": "text/x-python",
   "name": "python",
   "nbconvert_exporter": "python",
   "pygments_lexer": "ipython3",
   "version": "3.12.0"
  }
 },
 "nbformat": 4,
 "nbformat_minor": 5
}
