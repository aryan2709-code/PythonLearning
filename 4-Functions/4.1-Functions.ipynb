{
 "cells": [
  {
   "cell_type": "code",
   "execution_count": 1,
   "id": "9be590df",
   "metadata": {},
   "outputs": [],
   "source": [
    "# A Function is a block of code that performs a specific task\n",
    "\n",
    "## syntax\n",
    "def function_name(parameters):\n",
    "    \"\"\"Docstring\"\"\"\n",
    "    # Function Body\n",
    "    return expression"
   ]
  },
  {
   "cell_type": "code",
   "execution_count": null,
   "id": "2f014b99",
   "metadata": {},
   "outputs": [
    {
     "name": "stdout",
     "output_type": "stream",
     "text": [
      "The number is even\n",
      "The number is odd\n"
     ]
    }
   ],
   "source": [
    "# Why Functions ?\n",
    "\n",
    "def oddOrEven(num):\n",
    "    if(num % 2 == 0):\n",
    "        print(\"The number is even\")\n",
    "    else:\n",
    "        print(\"The number is odd\")\n",
    "\n",
    "# Calling the function\n",
    "oddOrEven(26)\n",
    "oddOrEven(25) # I don't have to repeat similar logic for two times, i can just call the function\n"
   ]
  },
  {
   "cell_type": "code",
   "execution_count": 4,
   "id": "4ae613ba",
   "metadata": {},
   "outputs": [
    {
     "name": "stdout",
     "output_type": "stream",
     "text": [
      "8\n"
     ]
    }
   ],
   "source": [
    "## Function with multiple parameters\n",
    "\n",
    "def add(a,b):\n",
    "    return a+b\n",
    "\n",
    "print(add(3,5))"
   ]
  },
  {
   "cell_type": "code",
   "execution_count": 5,
   "id": "9331d26d",
   "metadata": {},
   "outputs": [
    {
     "name": "stdout",
     "output_type": "stream",
     "text": [
      "Have a nice day Parth\n"
     ]
    }
   ],
   "source": [
    "## Default parameters\n",
    "\n",
    "def greet(name):\n",
    "    print(f\"Have a nice day {name}\")\n",
    "\n",
    "greet(\"Parth\")"
   ]
  },
  {
   "cell_type": "code",
   "execution_count": 7,
   "id": "edd2be2b",
   "metadata": {},
   "outputs": [
    {
     "name": "stdout",
     "output_type": "stream",
     "text": [
      "Have a nice day Anshul\n",
      "Have a nice day Aryan\n"
     ]
    }
   ],
   "source": [
    "def greet(name=\"Anshul\"):\n",
    "    print(f\"Have a nice day {name}\")\n",
    "\n",
    "greet()\n",
    "greet(\"Aryan\")"
   ]
  },
  {
   "cell_type": "code",
   "execution_count": 9,
   "id": "6c7d8ffd",
   "metadata": {},
   "outputs": [
    {
     "name": "stdout",
     "output_type": "stream",
     "text": [
      "1\n",
      "2\n",
      "3\n",
      "4\n",
      "5\n",
      "6\n",
      "7\n",
      "8\n",
      "Krish\n"
     ]
    }
   ],
   "source": [
    "## Variable length arguments \n",
    "# Positional and keyword arguments\n",
    "\n",
    "# def print_numbers(num1,num2,num3,num4,num5)\n",
    "\n",
    "def print_numbers(*args): #positional arguments # args is referring to all the parameters passed to the function\n",
    "    for number in args:\n",
    "        print(number)\n",
    "\n",
    "\n",
    "print_numbers(1,2,3,4,5,6,7,8,\"Krish\")"
   ]
  },
  {
   "cell_type": "code",
   "execution_count": 10,
   "id": "b889f816",
   "metadata": {},
   "outputs": [
    {
     "name": "stdout",
     "output_type": "stream",
     "text": [
      "name:Aryan\n",
      "age:21\n",
      "city:Jaipur\n",
      "country:India\n"
     ]
    }
   ],
   "source": [
    "## Keyword Arguments\n",
    "# keyword arguments are given by ** , In keyword arguments , all the parameters will be in the form of key value pairs\n",
    "def print_details(**kwargs):\n",
    "    for key,value in kwargs.items():\n",
    "        print(f\"{key}:{value}\")\n",
    "\n",
    "\n",
    "print_details(name=\"Aryan\",age=\"21\",city=\"Jaipur\",country=\"India\")"
   ]
  },
  {
   "cell_type": "code",
   "execution_count": 12,
   "id": "42ac6d64",
   "metadata": {},
   "outputs": [
    {
     "name": "stdout",
     "output_type": "stream",
     "text": [
      "Positional Argument : 1\n",
      "Positional Argument : 2\n",
      "Positional Argument : 3\n",
      "Positional Argument : 4\n",
      "Positional Argument : 5\n",
      "Positional Argument : Krish\n",
      "name:Aryan\n",
      "age:21\n",
      "city:Jaipur\n",
      "country:India\n"
     ]
    }
   ],
   "source": [
    "def print_details(*args,**kwargs):\n",
    "    for val in args:\n",
    "        print(f\"Positional Argument : {val}\")\n",
    "    \n",
    "    for key,value in kwargs.items():\n",
    "        print(f\"{key}:{value}\")\n",
    "    \n",
    "\n",
    "\n",
    "print_details(1,2,3,4,5,\"Krish\",name=\"Aryan\",age=\"21\",city=\"Jaipur\",country=\"India\")"
   ]
  },
  {
   "cell_type": "code",
   "execution_count": 13,
   "id": "37f5d6a0",
   "metadata": {},
   "outputs": [
    {
     "data": {
      "text/plain": [
       "6"
      ]
     },
     "execution_count": 13,
     "metadata": {},
     "output_type": "execute_result"
    }
   ],
   "source": [
    "## return statement\n",
    "\n",
    "def multiply(a,b):\n",
    "    return a*b\n",
    "\n",
    "multiply(2,3)"
   ]
  },
  {
   "cell_type": "code",
   "execution_count": null,
   "id": "a4d79ae0",
   "metadata": {},
   "outputs": [
    {
     "name": "stdout",
     "output_type": "stream",
     "text": [
      "<class 'tuple'>\n",
      "(6, 2)\n"
     ]
    }
   ],
   "source": [
    "## Multiple things returned from a single function ##\n",
    "def multiply(a,b):\n",
    "    return a*b,a\n",
    "\n",
    "result = multiply(2,3)\n",
    "print(type(result))\n",
    "print(result)"
   ]
  }
 ],
 "metadata": {
  "kernelspec": {
   "display_name": "Python 3",
   "language": "python",
   "name": "python3"
  },
  "language_info": {
   "codemirror_mode": {
    "name": "ipython",
    "version": 3
   },
   "file_extension": ".py",
   "mimetype": "text/x-python",
   "name": "python",
   "nbconvert_exporter": "python",
   "pygments_lexer": "ipython3",
   "version": "3.12.0"
  }
 },
 "nbformat": 4,
 "nbformat_minor": 5
}
