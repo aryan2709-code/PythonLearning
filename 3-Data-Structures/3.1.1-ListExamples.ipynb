{
 "cells": [
  {
   "cell_type": "code",
   "execution_count": 1,
   "id": "ffaa935f",
   "metadata": {},
   "outputs": [
    {
     "name": "stdout",
     "output_type": "stream",
     "text": [
      "hey, Don't forget to pay the utility bills\n",
      "To do List remaining\n",
      "Buy Groceries\n",
      "Pay Bills\n",
      "schedule meeting\n",
      "Go for a run\n"
     ]
    }
   ],
   "source": [
    "# Create a to-do list to keep track of Tasks \n",
    "\n",
    "to_do_list = [\"Buy Groceries\",\"Clean the house\",\"Pay Bills\"]\n",
    "\n",
    "#Adding a task\n",
    "to_do_list.append(\"schedule meeting\")\n",
    "to_do_list.append(\"Go for a run\")\n",
    "\n",
    "# removing the task\n",
    "to_do_list.remove(\"Clean the house\")\n",
    "\n",
    "#Checking if a task is in the list\n",
    "if \"Pay Bills\" in to_do_list:\n",
    "    print(\"hey, Don't forget to pay the utility bills\")\n",
    "\n",
    "print(\"To do List remaining\")\n",
    "for task in to_do_list:\n",
    "    print(task)\n"
   ]
  },
  {
   "cell_type": "code",
   "execution_count": 2,
   "id": "8851bf8f",
   "metadata": {},
   "outputs": [
    {
     "name": "stdout",
     "output_type": "stream",
     "text": [
      "Average Grade : 88.00\n",
      "Highest Grade: 95\n",
      "Lowest Grade : 78\n"
     ]
    }
   ],
   "source": [
    "# organising Student grades\n",
    "grades = [85,92,78,90,88]\n",
    "\n",
    "# adding a new grade\n",
    "grades.append(95)\n",
    "\n",
    "#calculating the average grade\n",
    "average_grade = sum(grades) / len(grades)\n",
    "print(f\"Average Grade : {average_grade:.2f}\")\n",
    "\n",
    "# Finding the highest and the lowest grade\n",
    "highest_grade  = max(grades)\n",
    "lowest_grade   = min(grades)\n",
    "print(f\"Highest Grade: {highest_grade}\")\n",
    "print(f\"Lowest Grade : {lowest_grade}\")"
   ]
  },
  {
   "cell_type": "code",
   "execution_count": 3,
   "id": "69abd9cc",
   "metadata": {},
   "outputs": [
    {
     "name": "stdout",
     "output_type": "stream",
     "text": [
      "Positive Feedback Count: 2\n",
      "user feedback:\n",
      "- great service!\n",
      "- very satisfied\n",
      "- could be better\n",
      "- Excellent experience\n",
      "- Not happy with the service\n"
     ]
    }
   ],
   "source": [
    "# use a list to analyse and collect user feedback\n",
    "\n",
    "feedback = [\"great service!\", \"very satisfied\", \"could be better\",\"Excellent experience\"]\n",
    "feedback.append(\"Not happy with the service\")\n",
    "\n",
    "#Counting specific feedback\n",
    "positive_feedback_count = sum(1 for comment in feedback if \"great\" in comment.lower() or \"excellent\" in comment.lower())\n",
    "print(f\"Positive Feedback Count: {positive_feedback_count}\")\n",
    "\n",
    "# print all feedback\n",
    "print(\"user feedback:\")\n",
    "for comment in feedback:\n",
    "    print(f\"- {comment}\")"
   ]
  }
 ],
 "metadata": {
  "kernelspec": {
   "display_name": "Python 3",
   "language": "python",
   "name": "python3"
  },
  "language_info": {
   "codemirror_mode": {
    "name": "ipython",
    "version": 3
   },
   "file_extension": ".py",
   "mimetype": "text/x-python",
   "name": "python",
   "nbconvert_exporter": "python",
   "pygments_lexer": "ipython3",
   "version": "3.12.0"
  }
 },
 "nbformat": 4,
 "nbformat_minor": 5
}
