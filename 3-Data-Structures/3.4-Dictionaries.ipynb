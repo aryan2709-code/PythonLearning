{
 "cells": [
  {
   "cell_type": "code",
   "execution_count": null,
   "id": "f53cfe58",
   "metadata": {},
   "outputs": [],
   "source": [
    "## Dictionaries are unordered collection of items. They store data in key-value pairs. Keys must be unique and immutable(e.g strings, numbers or tuples)\n",
    "# Values can be of any type"
   ]
  },
  {
   "cell_type": "code",
   "execution_count": 1,
   "id": "4263e6ff",
   "metadata": {},
   "outputs": [
    {
     "name": "stdout",
     "output_type": "stream",
     "text": [
      "<class 'dict'>\n"
     ]
    }
   ],
   "source": [
    "## Creating Dictionaries\n",
    "\n",
    "empty_dict={}\n",
    "print(type(empty_dict))"
   ]
  },
  {
   "cell_type": "code",
   "execution_count": 2,
   "id": "61495d63",
   "metadata": {},
   "outputs": [
    {
     "name": "stdout",
     "output_type": "stream",
     "text": [
      "<class 'dict'>\n",
      "{}\n"
     ]
    }
   ],
   "source": [
    "empty_dict = dict()\n",
    "print(type(empty_dict))\n",
    "print(empty_dict)"
   ]
  },
  {
   "cell_type": "code",
   "execution_count": 3,
   "id": "8967632d",
   "metadata": {},
   "outputs": [
    {
     "name": "stdout",
     "output_type": "stream",
     "text": [
      "{'name': 'Aryan', 'age': 21, 'grade': 24}\n",
      "<class 'dict'>\n"
     ]
    }
   ],
   "source": [
    "students = {\"name\" : \"Aryan\", \"age\" : 21, \"grade\":24}\n",
    "print(students)\n",
    "print(type(students))"
   ]
  },
  {
   "cell_type": "code",
   "execution_count": 4,
   "id": "cb07b732",
   "metadata": {},
   "outputs": [
    {
     "name": "stdout",
     "output_type": "stream",
     "text": [
      "{'name': 24, 'age': 22}\n"
     ]
    }
   ],
   "source": [
    "# Single key is always used\n",
    "student = {\"name\":\"Aryan\",\"age\" : 22 , \"name\" : 24}\n",
    "print(student)"
   ]
  },
  {
   "cell_type": "code",
   "execution_count": 7,
   "id": "4e21fbfb",
   "metadata": {},
   "outputs": [
    {
     "name": "stdout",
     "output_type": "stream",
     "text": [
      "{'name': 'Aryan', 'age': 22, 'grade': 'A', 'gender': 'Male'}\n",
      "A\n",
      "22\n"
     ]
    }
   ],
   "source": [
    "## accessing Dictionary Elements\n",
    "student = {\"name\" : \"Aryan\", \"age\" : 22 , \"grade\" : \"A\", \"gender\" : \"Male\"}\n",
    "print(student)\n",
    "print(student[\"grade\"])\n",
    "print(student[\"age\"])"
   ]
  },
  {
   "cell_type": "code",
   "execution_count": null,
   "id": "c425e57c",
   "metadata": {},
   "outputs": [
    {
     "name": "stdout",
     "output_type": "stream",
     "text": [
      "A\n",
      "None\n",
      "Not available\n"
     ]
    }
   ],
   "source": [
    "## accessing using get method\n",
    "print(student.get('grade'))\n",
    "print(student.get('last name'))\n",
    "print(student.get('last_name',\"Not available\"))  # Not available is the default option"
   ]
  },
  {
   "cell_type": "code",
   "execution_count": 11,
   "id": "a52679fc",
   "metadata": {},
   "outputs": [
    {
     "name": "stdout",
     "output_type": "stream",
     "text": [
      "{'name': 'Aryan', 'age': 22, 'grade': 'A', 'gender': 'Male'}\n"
     ]
    }
   ],
   "source": [
    "## Modifying dictionary elements\n",
    "## Dictionaries are mutable, so you can add , update or delete elements\n",
    "print(student)"
   ]
  },
  {
   "cell_type": "code",
   "execution_count": null,
   "id": "4022fb25",
   "metadata": {},
   "outputs": [
    {
     "name": "stdout",
     "output_type": "stream",
     "text": [
      "{'name': 'Aryan', 'age': 21, 'grade': 'A', 'gender': 'Male'}\n",
      "{'name': 'Aryan', 'age': 21, 'grade': 'A', 'gender': 'Male', 'address': 'India'}\n"
     ]
    }
   ],
   "source": [
    "# Updating the value of a key\n",
    "student['age'] = 21\n",
    "print(student)\n",
    "# Adding a new key-value pair\n",
    "student['address'] = \"India\"\n",
    "print(student)"
   ]
  },
  {
   "cell_type": "code",
   "execution_count": 14,
   "id": "7ec6cdd5",
   "metadata": {},
   "outputs": [
    {
     "name": "stdout",
     "output_type": "stream",
     "text": [
      "{'name': 'Aryan', 'age': 21, 'gender': 'Male', 'address': 'India'}\n"
     ]
    }
   ],
   "source": [
    "# Deleting a key\n",
    "del student['grade'] ## delete key and value pair\n",
    "print(student)"
   ]
  },
  {
   "cell_type": "code",
   "execution_count": 15,
   "id": "aec40d8b",
   "metadata": {},
   "outputs": [
    {
     "name": "stdout",
     "output_type": "stream",
     "text": [
      "dict_keys(['name', 'age', 'gender', 'address'])\n",
      "dict_values(['Aryan', 21, 'Male', 'India'])\n",
      "dict_items([('name', 'Aryan'), ('age', 21), ('gender', 'Male'), ('address', 'India')])\n"
     ]
    }
   ],
   "source": [
    "## Dictionary methods\n",
    "\n",
    "# Getting all the keys of a dictionary\n",
    "keys = student.keys()\n",
    "print(keys)\n",
    "# getting all the values\n",
    "values = student.values()\n",
    "print(values)\n",
    "# getting all the key value pairs\n",
    "pairs = student.items()\n",
    "print(pairs)\n"
   ]
  },
  {
   "cell_type": "code",
   "execution_count": 16,
   "id": "7a0c98de",
   "metadata": {},
   "outputs": [
    {
     "name": "stdout",
     "output_type": "stream",
     "text": [
      "{'name': 'Aryan', 'age': 21, 'gender': 'Male', 'address': 'India'}\n",
      "{'name': 'Aryan', 'age': 21, 'gender': 'Male', 'address': 'India'}\n"
     ]
    }
   ],
   "source": [
    "## shallow copy\n",
    "\n",
    "student_copy = student\n",
    "print(student)\n",
    "print(student_copy)"
   ]
  },
  {
   "cell_type": "code",
   "execution_count": null,
   "id": "3e5be40d",
   "metadata": {},
   "outputs": [
    {
     "name": "stdout",
     "output_type": "stream",
     "text": [
      "{'name': 'Anshul', 'age': 21, 'gender': 'Male', 'address': 'India'}\n",
      "{'name': 'Anshul', 'age': 21, 'gender': 'Male', 'address': 'India'}\n"
     ]
    }
   ],
   "source": [
    "student['name'] = \"Anshul\"\n",
    "print(student)\n",
    "print(student_copy) # Student copy also gets changed , despite making change only in student"
   ]
  },
  {
   "cell_type": "code",
   "execution_count": null,
   "id": "bf3e78ad",
   "metadata": {},
   "outputs": [
    {
     "name": "stdout",
     "output_type": "stream",
     "text": [
      "{'name': 'Anshul', 'age': 21, 'gender': 'Male', 'address': 'India'}\n",
      "{'name': 'Anshul', 'age': 21, 'gender': 'Male', 'address': 'India'}\n",
      "{'name': 'Parth', 'age': 21, 'gender': 'Male', 'address': 'India'}\n",
      "{'name': 'Anshul', 'age': 21, 'gender': 'Male', 'address': 'India'}\n"
     ]
    }
   ],
   "source": [
    "student_copy1 = student.copy() # Shallow copy\n",
    "print(student_copy1)\n",
    "print(student)\n",
    "student['name'] = \"Parth\"\n",
    "print(student)\n",
    "print(student_copy1) # Remains unaffected because strings are immutable "
   ]
  },
  {
   "cell_type": "code",
   "execution_count": null,
   "id": "d8b15308",
   "metadata": {},
   "outputs": [
    {
     "name": "stdout",
     "output_type": "stream",
     "text": [
      "{'name': 'Parth', 'age': 21, 'gender': 'Male', 'address': 'India', 'marks': [12, 24, 36]}\n",
      "{'name': 'Parth', 'age': 21, 'gender': 'Male', 'address': 'India', 'marks': [12, 24, 36]}\n",
      "{'name': 'Parth', 'age': 21, 'gender': 'Male', 'address': 'India', 'marks': [12, 24, 36, 96]}\n",
      "{'name': 'Parth', 'age': 21, 'gender': 'Male', 'address': 'India', 'marks': [12, 24, 36, 96]}\n"
     ]
    }
   ],
   "source": [
    "student['marks'] = [12,24,36]\n",
    "student_copy1 = student.copy()\n",
    "print(student)\n",
    "print(student_copy1)\n",
    "\n",
    "student['marks'].append(96)\n",
    "print(student)\n",
    "print(student_copy) # The marks entry in student_copy also got affected because marks was pointting to a list and lists are mutable \n",
    "\n"
   ]
  },
  {
   "cell_type": "code",
   "execution_count": 22,
   "id": "abf78f80",
   "metadata": {},
   "outputs": [
    {
     "name": "stdout",
     "output_type": "stream",
     "text": [
      "name\n",
      "age\n",
      "gender\n",
      "address\n",
      "marks\n"
     ]
    }
   ],
   "source": [
    "## iterating over dictionaries\n",
    "\n",
    "## Iterating over keys\n",
    "for keys in student.keys():\n",
    "    print(keys)"
   ]
  },
  {
   "cell_type": "code",
   "execution_count": 23,
   "id": "1ed60582",
   "metadata": {},
   "outputs": [
    {
     "name": "stdout",
     "output_type": "stream",
     "text": [
      "Parth\n",
      "21\n",
      "Male\n",
      "India\n",
      "[12, 24, 36, 96]\n"
     ]
    }
   ],
   "source": [
    "# Iterating over values\n",
    "for value in student.values():\n",
    "    print(value)"
   ]
  },
  {
   "cell_type": "code",
   "execution_count": 24,
   "id": "fa8c6a9b",
   "metadata": {},
   "outputs": [
    {
     "name": "stdout",
     "output_type": "stream",
     "text": [
      "name : Parth\n",
      "age : 21\n",
      "gender : Male\n",
      "address : India\n",
      "marks : [12, 24, 36, 96]\n"
     ]
    }
   ],
   "source": [
    "# Iterating over key value pairs\n",
    "for key,value in student.items():\n",
    "    print(f\"{key} : {value}\")"
   ]
  },
  {
   "cell_type": "code",
   "execution_count": 25,
   "id": "b7549bcb",
   "metadata": {},
   "outputs": [
    {
     "name": "stdout",
     "output_type": "stream",
     "text": [
      "{'student1': {'name': 'Aryan', 'age': 21}, 'student2': {'name': 'Anshul', 'age': 22}, 'student3': {'name': 'Parth', 'age': 23}}\n"
     ]
    }
   ],
   "source": [
    "## Nested Dictionaries\n",
    "\n",
    "students = {\n",
    "    \"student1\" : {\"name\":\"Aryan\",\"age\":21},\n",
    "    \"student2\" : {\"name\":\"Anshul\",\"age\":22},\n",
    "    \"student3\" : {\"name\":\"Parth\",\"age\":23}\n",
    "}\n",
    "\n",
    "print(students)"
   ]
  },
  {
   "cell_type": "code",
   "execution_count": 27,
   "id": "c68a9002",
   "metadata": {},
   "outputs": [
    {
     "name": "stdout",
     "output_type": "stream",
     "text": [
      "Aryan\n",
      "21\n"
     ]
    }
   ],
   "source": [
    "# accessing nested dictionary elements\n",
    "print(students['student1']['name'])\n",
    "print(students['student1']['age'])\n"
   ]
  },
  {
   "cell_type": "code",
   "execution_count": 28,
   "id": "d8b5259a",
   "metadata": {},
   "outputs": [
    {
     "name": "stdout",
     "output_type": "stream",
     "text": [
      "student1:{'name': 'Aryan', 'age': 21}\n",
      "name:Aryan\n",
      "age:21\n",
      "student2:{'name': 'Anshul', 'age': 22}\n",
      "name:Anshul\n",
      "age:22\n",
      "student3:{'name': 'Parth', 'age': 23}\n",
      "name:Parth\n",
      "age:23\n"
     ]
    }
   ],
   "source": [
    "# Iterating over nested dictionaries\n",
    "\n",
    "for student_id,student_info in students.items():\n",
    "    print(f\"{student_id}:{student_info}\")\n",
    "    for key,value in student_info.items():\n",
    "        print(f\"{key}:{value}\")\n"
   ]
  },
  {
   "cell_type": "code",
   "execution_count": 29,
   "id": "8867ddf2",
   "metadata": {},
   "outputs": [
    {
     "name": "stdout",
     "output_type": "stream",
     "text": [
      "{0: 0, 1: 1, 2: 4, 3: 9, 4: 16}\n"
     ]
    }
   ],
   "source": [
    "# Dictionary comprehension\n",
    "\n",
    "squares = { x:x**2 for x in range(5) }\n",
    "print(squares)"
   ]
  },
  {
   "cell_type": "code",
   "execution_count": 30,
   "id": "706a2a32",
   "metadata": {},
   "outputs": [
    {
     "name": "stdout",
     "output_type": "stream",
     "text": [
      "{0: 0, 2: 4, 4: 16, 6: 36, 8: 64}\n"
     ]
    }
   ],
   "source": [
    "# Conditional dictionary comprehension\n",
    "even_squares = {x:x**2 for x in range(10) if x%2 == 0}\n",
    "print(even_squares)"
   ]
  },
  {
   "cell_type": "code",
   "execution_count": 32,
   "id": "6104eaf4",
   "metadata": {},
   "outputs": [
    {
     "name": "stdout",
     "output_type": "stream",
     "text": [
      "{1: 1, 2: 2, 3: 3, 4: 4}\n"
     ]
    }
   ],
   "source": [
    "# Practical examples\n",
    "\n",
    "# Use a dictionary to count the frequency of elements in a list\n",
    "\n",
    "numbers = [1,2,2,3,3,3,4,4,4,4]\n",
    "num_dict = {}\n",
    "for num in numbers:\n",
    "    if num in num_dict:\n",
    "        num_dict[num] += 1\n",
    "    else:\n",
    "        num_dict[num] = 1\n",
    "print(num_dict)"
   ]
  },
  {
   "cell_type": "code",
   "execution_count": 33,
   "id": "41e44c3b",
   "metadata": {},
   "outputs": [
    {
     "name": "stdout",
     "output_type": "stream",
     "text": [
      "{'a': 1, 'b': 3, 'c': 4}\n"
     ]
    }
   ],
   "source": [
    "## Merge two dictionaries into one\n",
    "\n",
    "dict1 = {\"a\":1,\"b\":2}\n",
    "dict2 = {\"b\":3,\"c\":4}\n",
    "merged_dict = {**dict1,**dict2}\n",
    "print(merged_dict)"
   ]
  }
 ],
 "metadata": {
  "kernelspec": {
   "display_name": "Python 3",
   "language": "python",
   "name": "python3"
  },
  "language_info": {
   "codemirror_mode": {
    "name": "ipython",
    "version": 3
   },
   "file_extension": ".py",
   "mimetype": "text/x-python",
   "name": "python",
   "nbconvert_exporter": "python",
   "pygments_lexer": "ipython3",
   "version": "3.12.0"
  }
 },
 "nbformat": 4,
 "nbformat_minor": 5
}
