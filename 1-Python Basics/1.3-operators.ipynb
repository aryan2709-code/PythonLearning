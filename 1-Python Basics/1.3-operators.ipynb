{
 "cells": [
  {
   "cell_type": "code",
   "execution_count": 2,
   "id": "01d4d8a4",
   "metadata": {},
   "outputs": [
    {
     "name": "stdout",
     "output_type": "stream",
     "text": [
      "25\n",
      "-5\n",
      "150\n",
      "0.6666666666666666\n",
      "0\n",
      "10\n",
      "1000000000000000\n"
     ]
    }
   ],
   "source": [
    "## Arithmetic Operations\n",
    "a = 10\n",
    "b = 15\n",
    "\n",
    "add_result = a + b #Addition\n",
    "print(add_result)\n",
    "sub_result = a - b #Subtraction\n",
    "print(sub_result)\n",
    "mult_result = a * b #Multiplication\n",
    "print(mult_result)\n",
    "div_result = a / b #Division\n",
    "print(div_result)\n",
    "floor_div_result = a//b #Floor division\n",
    "print(floor_div_result)\n",
    "modulus_result = a%b #Mod \n",
    "print(modulus_result)\n",
    "exponent_result = a**b\n",
    "print(exponent_result)\n"
   ]
  },
  {
   "cell_type": "code",
   "execution_count": null,
   "id": "ed25fcdb",
   "metadata": {},
   "outputs": [
    {
     "data": {
      "text/plain": [
       "True"
      ]
     },
     "execution_count": 3,
     "metadata": {},
     "output_type": "execute_result"
    }
   ],
   "source": [
    "## Comparison Operators\n",
    "# == Equal to operator\n",
    "a = 10\n",
    "b = 10\n",
    "\n",
    "a == b"
   ]
  },
  {
   "cell_type": "code",
   "execution_count": 4,
   "id": "8350e121",
   "metadata": {},
   "outputs": [
    {
     "data": {
      "text/plain": [
       "True"
      ]
     },
     "execution_count": 4,
     "metadata": {},
     "output_type": "execute_result"
    }
   ],
   "source": [
    "str1 = \"Aryan\"\n",
    "str2 = \"Aryan\"\n",
    "\n",
    "str1 == str2"
   ]
  },
  {
   "cell_type": "code",
   "execution_count": 7,
   "id": "f70d03eb",
   "metadata": {},
   "outputs": [
    {
     "data": {
      "text/plain": [
       "True"
      ]
     },
     "execution_count": 7,
     "metadata": {},
     "output_type": "execute_result"
    }
   ],
   "source": [
    "## Not equal to !=\n",
    "str3 = \"Aryan\"\n",
    "str4 = \"aryan\"\n",
    "\n",
    "str3 != str4"
   ]
  },
  {
   "cell_type": "code",
   "execution_count": null,
   "id": "e0e7b75e",
   "metadata": {},
   "outputs": [
    {
     "data": {
      "text/plain": [
       "False"
      ]
     },
     "execution_count": 8,
     "metadata": {},
     "output_type": "execute_result"
    }
   ],
   "source": [
    "# Greater than >\n",
    "\n",
    "num1 = 45\n",
    "num2 = 55\n",
    "\n",
    "num1 > num2"
   ]
  },
  {
   "cell_type": "code",
   "execution_count": 9,
   "id": "62a58590",
   "metadata": {},
   "outputs": [
    {
     "data": {
      "text/plain": [
       "True"
      ]
     },
     "execution_count": 9,
     "metadata": {},
     "output_type": "execute_result"
    }
   ],
   "source": [
    "## Less than <\n",
    "num1 < num2"
   ]
  },
  {
   "cell_type": "code",
   "execution_count": 10,
   "id": "9c527f42",
   "metadata": {},
   "outputs": [
    {
     "data": {
      "text/plain": [
       "True"
      ]
     },
     "execution_count": 10,
     "metadata": {},
     "output_type": "execute_result"
    }
   ],
   "source": [
    "## Greater than or equal to\n",
    "number1  = 45\n",
    "number2 = 45\n",
    "\n",
    "number1 >= number2"
   ]
  },
  {
   "cell_type": "code",
   "execution_count": 11,
   "id": "0f35f0ab",
   "metadata": {},
   "outputs": [
    {
     "data": {
      "text/plain": [
       "True"
      ]
     },
     "execution_count": 11,
     "metadata": {},
     "output_type": "execute_result"
    }
   ],
   "source": [
    "## less than or equal to\n",
    "\n",
    "number1 <= number2"
   ]
  },
  {
   "cell_type": "code",
   "execution_count": 17,
   "id": "4797ee32",
   "metadata": {},
   "outputs": [
    {
     "name": "stdout",
     "output_type": "stream",
     "text": [
      "True\n",
      "False\n",
      "True\n"
     ]
    }
   ],
   "source": [
    "## Logical Operators\n",
    "\n",
    "# And , Or , Not\n",
    "\n",
    "x = True\n",
    "y = True\n",
    "\n",
    "result = x and y\n",
    "print(result)\n",
    "\n",
    "result2 = x and not(y)\n",
    "print(result2)\n",
    "\n",
    "result3 = x or not y\n",
    "print(result3)\n"
   ]
  }
 ],
 "metadata": {
  "kernelspec": {
   "display_name": "Python 3",
   "language": "python",
   "name": "python3"
  },
  "language_info": {
   "codemirror_mode": {
    "name": "ipython",
    "version": 3
   },
   "file_extension": ".py",
   "mimetype": "text/x-python",
   "name": "python",
   "nbconvert_exporter": "python",
   "pygments_lexer": "ipython3",
   "version": "3.12.0"
  }
 },
 "nbformat": 4,
 "nbformat_minor": 5
}
